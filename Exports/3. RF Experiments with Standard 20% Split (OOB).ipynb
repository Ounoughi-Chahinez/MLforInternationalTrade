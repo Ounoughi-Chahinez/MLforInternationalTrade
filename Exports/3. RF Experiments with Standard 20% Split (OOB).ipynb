{
 "cells": [
  {
   "cell_type": "markdown",
   "metadata": {},
   "source": [
    "\n",
    "# Exports"
   ]
  },
  {
   "cell_type": "markdown",
   "metadata": {},
   "source": [
    "# Experiments:"
   ]
  },
  {
   "cell_type": "code",
   "execution_count": 1,
   "metadata": {},
   "outputs": [
    {
     "name": "stdout",
     "output_type": "stream",
     "text": [
      "time: 295 ms (started: 2024-04-29 17:43:04 +03:00)\n"
     ]
    }
   ],
   "source": [
    "%load_ext autotime\n",
    "%matplotlib inline"
   ]
  },
  {
   "cell_type": "code",
   "execution_count": 2,
   "metadata": {},
   "outputs": [
    {
     "name": "stdout",
     "output_type": "stream",
     "text": [
      "time: 667 ms (started: 2024-04-29 17:43:06 +03:00)\n"
     ]
    }
   ],
   "source": [
    "import pandas as pd\n",
    "import joblib\n",
    "from sklearn.tree import DecisionTreeRegressor\n",
    "from sklearn.ensemble import RandomForestRegressor\n",
    "from sklearn.metrics import mean_absolute_error, r2_score, mean_squared_error\n",
    "from sklearn.model_selection import train_test_split\n",
    "import numpy as np\n",
    "import matplotlib.pyplot as plt\n",
    "import seaborn as sn\n",
    "import re"
   ]
  },
  {
   "cell_type": "code",
   "execution_count": 3,
   "metadata": {},
   "outputs": [
    {
     "data": {
      "text/html": [
       "<div>\n",
       "<style scoped>\n",
       "    .dataframe tbody tr th:only-of-type {\n",
       "        vertical-align: middle;\n",
       "    }\n",
       "\n",
       "    .dataframe tbody tr th {\n",
       "        vertical-align: top;\n",
       "    }\n",
       "\n",
       "    .dataframe thead th {\n",
       "        text-align: right;\n",
       "    }\n",
       "</style>\n",
       "<table border=\"1\" class=\"dataframe\">\n",
       "  <thead>\n",
       "    <tr style=\"text-align: right;\">\n",
       "      <th></th>\n",
       "      <th>refYear</th>\n",
       "      <th>reporterCode</th>\n",
       "      <th>partnerCode</th>\n",
       "      <th>distw_harmonic</th>\n",
       "      <th>contig</th>\n",
       "      <th>gdp_o</th>\n",
       "      <th>gdp_d</th>\n",
       "      <th>gdpcap_o</th>\n",
       "      <th>gdpcap_d</th>\n",
       "      <th>pop_o</th>\n",
       "      <th>...</th>\n",
       "      <th>primaryValue_y</th>\n",
       "      <th>diversity</th>\n",
       "      <th>ubiquity</th>\n",
       "      <th>mcp</th>\n",
       "      <th>eci</th>\n",
       "      <th>pci</th>\n",
       "      <th>density</th>\n",
       "      <th>coi</th>\n",
       "      <th>cog</th>\n",
       "      <th>rca</th>\n",
       "    </tr>\n",
       "  </thead>\n",
       "  <tbody>\n",
       "    <tr>\n",
       "      <th>0</th>\n",
       "      <td>2016</td>\n",
       "      <td>12.0</td>\n",
       "      <td>4.0</td>\n",
       "      <td>5758.0</td>\n",
       "      <td>0.0</td>\n",
       "      <td>1.560796e+08</td>\n",
       "      <td>1.946902e+07</td>\n",
       "      <td>3.844</td>\n",
       "      <td>0.562</td>\n",
       "      <td>40606.052</td>\n",
       "      <td>...</td>\n",
       "      <td>8.306141e+05</td>\n",
       "      <td>52</td>\n",
       "      <td>23</td>\n",
       "      <td>0</td>\n",
       "      <td>-0.560928</td>\n",
       "      <td>1.670182</td>\n",
       "      <td>0.009508</td>\n",
       "      <td>-0.986485</td>\n",
       "      <td>0.328780</td>\n",
       "      <td>0.092705</td>\n",
       "    </tr>\n",
       "    <tr>\n",
       "      <th>1</th>\n",
       "      <td>2016</td>\n",
       "      <td>12.0</td>\n",
       "      <td>8.0</td>\n",
       "      <td>1511.0</td>\n",
       "      <td>0.0</td>\n",
       "      <td>1.560796e+08</td>\n",
       "      <td>1.192689e+07</td>\n",
       "      <td>3.844</td>\n",
       "      <td>4.147</td>\n",
       "      <td>40606.052</td>\n",
       "      <td>...</td>\n",
       "      <td>2.090634e+08</td>\n",
       "      <td>52</td>\n",
       "      <td>42</td>\n",
       "      <td>1</td>\n",
       "      <td>-0.560928</td>\n",
       "      <td>-2.597045</td>\n",
       "      <td>0.016871</td>\n",
       "      <td>-0.986485</td>\n",
       "      <td>-0.000000</td>\n",
       "      <td>9.458043</td>\n",
       "    </tr>\n",
       "    <tr>\n",
       "      <th>2</th>\n",
       "      <td>2016</td>\n",
       "      <td>12.0</td>\n",
       "      <td>8.0</td>\n",
       "      <td>1511.0</td>\n",
       "      <td>0.0</td>\n",
       "      <td>1.560796e+08</td>\n",
       "      <td>1.192689e+07</td>\n",
       "      <td>3.844</td>\n",
       "      <td>4.147</td>\n",
       "      <td>40606.052</td>\n",
       "      <td>...</td>\n",
       "      <td>2.090634e+08</td>\n",
       "      <td>52</td>\n",
       "      <td>42</td>\n",
       "      <td>1</td>\n",
       "      <td>-0.560928</td>\n",
       "      <td>-2.597045</td>\n",
       "      <td>0.016871</td>\n",
       "      <td>-0.986485</td>\n",
       "      <td>-0.000000</td>\n",
       "      <td>9.458043</td>\n",
       "    </tr>\n",
       "    <tr>\n",
       "      <th>3</th>\n",
       "      <td>2016</td>\n",
       "      <td>12.0</td>\n",
       "      <td>8.0</td>\n",
       "      <td>1511.0</td>\n",
       "      <td>0.0</td>\n",
       "      <td>1.560796e+08</td>\n",
       "      <td>1.192689e+07</td>\n",
       "      <td>3.844</td>\n",
       "      <td>4.147</td>\n",
       "      <td>40606.052</td>\n",
       "      <td>...</td>\n",
       "      <td>2.090634e+08</td>\n",
       "      <td>52</td>\n",
       "      <td>42</td>\n",
       "      <td>1</td>\n",
       "      <td>-0.560928</td>\n",
       "      <td>-2.597045</td>\n",
       "      <td>0.016871</td>\n",
       "      <td>-0.986485</td>\n",
       "      <td>-0.000000</td>\n",
       "      <td>9.458043</td>\n",
       "    </tr>\n",
       "    <tr>\n",
       "      <th>4</th>\n",
       "      <td>2016</td>\n",
       "      <td>12.0</td>\n",
       "      <td>8.0</td>\n",
       "      <td>1511.0</td>\n",
       "      <td>0.0</td>\n",
       "      <td>1.560796e+08</td>\n",
       "      <td>1.192689e+07</td>\n",
       "      <td>3.844</td>\n",
       "      <td>4.147</td>\n",
       "      <td>40606.052</td>\n",
       "      <td>...</td>\n",
       "      <td>2.090634e+08</td>\n",
       "      <td>52</td>\n",
       "      <td>42</td>\n",
       "      <td>1</td>\n",
       "      <td>-0.560928</td>\n",
       "      <td>-2.597045</td>\n",
       "      <td>0.016871</td>\n",
       "      <td>-0.986485</td>\n",
       "      <td>-0.000000</td>\n",
       "      <td>9.458043</td>\n",
       "    </tr>\n",
       "    <tr>\n",
       "      <th>...</th>\n",
       "      <td>...</td>\n",
       "      <td>...</td>\n",
       "      <td>...</td>\n",
       "      <td>...</td>\n",
       "      <td>...</td>\n",
       "      <td>...</td>\n",
       "      <td>...</td>\n",
       "      <td>...</td>\n",
       "      <td>...</td>\n",
       "      <td>...</td>\n",
       "      <td>...</td>\n",
       "      <td>...</td>\n",
       "      <td>...</td>\n",
       "      <td>...</td>\n",
       "      <td>...</td>\n",
       "      <td>...</td>\n",
       "      <td>...</td>\n",
       "      <td>...</td>\n",
       "      <td>...</td>\n",
       "      <td>...</td>\n",
       "      <td>...</td>\n",
       "    </tr>\n",
       "    <tr>\n",
       "      <th>256300072</th>\n",
       "      <td>2021</td>\n",
       "      <td>894.0</td>\n",
       "      <td>842.0</td>\n",
       "      <td>13549.0</td>\n",
       "      <td>0.0</td>\n",
       "      <td>2.120306e+07</td>\n",
       "      <td>2.299610e+10</td>\n",
       "      <td>1.121</td>\n",
       "      <td>69.288</td>\n",
       "      <td>18920.656</td>\n",
       "      <td>...</td>\n",
       "      <td>1.165392e+03</td>\n",
       "      <td>159</td>\n",
       "      <td>13</td>\n",
       "      <td>0</td>\n",
       "      <td>-0.706759</td>\n",
       "      <td>-0.163885</td>\n",
       "      <td>0.033542</td>\n",
       "      <td>-0.832140</td>\n",
       "      <td>0.244567</td>\n",
       "      <td>0.018798</td>\n",
       "    </tr>\n",
       "    <tr>\n",
       "      <th>256300073</th>\n",
       "      <td>2021</td>\n",
       "      <td>894.0</td>\n",
       "      <td>842.0</td>\n",
       "      <td>13549.0</td>\n",
       "      <td>0.0</td>\n",
       "      <td>2.120306e+07</td>\n",
       "      <td>2.299610e+10</td>\n",
       "      <td>1.121</td>\n",
       "      <td>69.288</td>\n",
       "      <td>18920.656</td>\n",
       "      <td>...</td>\n",
       "      <td>1.149125e+05</td>\n",
       "      <td>159</td>\n",
       "      <td>14</td>\n",
       "      <td>0</td>\n",
       "      <td>-0.706759</td>\n",
       "      <td>0.250835</td>\n",
       "      <td>0.023356</td>\n",
       "      <td>-0.832140</td>\n",
       "      <td>0.280534</td>\n",
       "      <td>0.292447</td>\n",
       "    </tr>\n",
       "    <tr>\n",
       "      <th>256300074</th>\n",
       "      <td>2021</td>\n",
       "      <td>894.0</td>\n",
       "      <td>842.0</td>\n",
       "      <td>13549.0</td>\n",
       "      <td>0.0</td>\n",
       "      <td>2.120306e+07</td>\n",
       "      <td>2.299610e+10</td>\n",
       "      <td>1.121</td>\n",
       "      <td>69.288</td>\n",
       "      <td>18920.656</td>\n",
       "      <td>...</td>\n",
       "      <td>5.882079e+03</td>\n",
       "      <td>159</td>\n",
       "      <td>19</td>\n",
       "      <td>0</td>\n",
       "      <td>-0.706759</td>\n",
       "      <td>-1.079805</td>\n",
       "      <td>0.036466</td>\n",
       "      <td>-0.832140</td>\n",
       "      <td>-0.217961</td>\n",
       "      <td>0.946455</td>\n",
       "    </tr>\n",
       "    <tr>\n",
       "      <th>256300075</th>\n",
       "      <td>2021</td>\n",
       "      <td>894.0</td>\n",
       "      <td>842.0</td>\n",
       "      <td>13549.0</td>\n",
       "      <td>0.0</td>\n",
       "      <td>2.120306e+07</td>\n",
       "      <td>2.299610e+10</td>\n",
       "      <td>1.121</td>\n",
       "      <td>69.288</td>\n",
       "      <td>18920.656</td>\n",
       "      <td>...</td>\n",
       "      <td>8.121207e+04</td>\n",
       "      <td>159</td>\n",
       "      <td>12</td>\n",
       "      <td>1</td>\n",
       "      <td>-0.706759</td>\n",
       "      <td>2.719383</td>\n",
       "      <td>0.042198</td>\n",
       "      <td>-0.832140</td>\n",
       "      <td>0.000000</td>\n",
       "      <td>1.207172</td>\n",
       "    </tr>\n",
       "    <tr>\n",
       "      <th>256300076</th>\n",
       "      <td>2021</td>\n",
       "      <td>894.0</td>\n",
       "      <td>842.0</td>\n",
       "      <td>13549.0</td>\n",
       "      <td>0.0</td>\n",
       "      <td>2.120306e+07</td>\n",
       "      <td>2.299610e+10</td>\n",
       "      <td>1.121</td>\n",
       "      <td>69.288</td>\n",
       "      <td>18920.656</td>\n",
       "      <td>...</td>\n",
       "      <td>2.370113e+05</td>\n",
       "      <td>159</td>\n",
       "      <td>15</td>\n",
       "      <td>0</td>\n",
       "      <td>-0.706759</td>\n",
       "      <td>2.222318</td>\n",
       "      <td>0.031952</td>\n",
       "      <td>-0.832140</td>\n",
       "      <td>0.803068</td>\n",
       "      <td>0.008902</td>\n",
       "    </tr>\n",
       "  </tbody>\n",
       "</table>\n",
       "<p>256300077 rows × 26 columns</p>\n",
       "</div>"
      ],
      "text/plain": [
       "           refYear  reporterCode  partnerCode  distw_harmonic  contig  \\\n",
       "0             2016          12.0          4.0          5758.0     0.0   \n",
       "1             2016          12.0          8.0          1511.0     0.0   \n",
       "2             2016          12.0          8.0          1511.0     0.0   \n",
       "3             2016          12.0          8.0          1511.0     0.0   \n",
       "4             2016          12.0          8.0          1511.0     0.0   \n",
       "...            ...           ...          ...             ...     ...   \n",
       "256300072     2021         894.0        842.0         13549.0     0.0   \n",
       "256300073     2021         894.0        842.0         13549.0     0.0   \n",
       "256300074     2021         894.0        842.0         13549.0     0.0   \n",
       "256300075     2021         894.0        842.0         13549.0     0.0   \n",
       "256300076     2021         894.0        842.0         13549.0     0.0   \n",
       "\n",
       "                  gdp_o         gdp_d  gdpcap_o  gdpcap_d      pop_o  ...  \\\n",
       "0          1.560796e+08  1.946902e+07     3.844     0.562  40606.052  ...   \n",
       "1          1.560796e+08  1.192689e+07     3.844     4.147  40606.052  ...   \n",
       "2          1.560796e+08  1.192689e+07     3.844     4.147  40606.052  ...   \n",
       "3          1.560796e+08  1.192689e+07     3.844     4.147  40606.052  ...   \n",
       "4          1.560796e+08  1.192689e+07     3.844     4.147  40606.052  ...   \n",
       "...                 ...           ...       ...       ...        ...  ...   \n",
       "256300072  2.120306e+07  2.299610e+10     1.121    69.288  18920.656  ...   \n",
       "256300073  2.120306e+07  2.299610e+10     1.121    69.288  18920.656  ...   \n",
       "256300074  2.120306e+07  2.299610e+10     1.121    69.288  18920.656  ...   \n",
       "256300075  2.120306e+07  2.299610e+10     1.121    69.288  18920.656  ...   \n",
       "256300076  2.120306e+07  2.299610e+10     1.121    69.288  18920.656  ...   \n",
       "\n",
       "           primaryValue_y  diversity  ubiquity  mcp       eci       pci  \\\n",
       "0            8.306141e+05         52        23    0 -0.560928  1.670182   \n",
       "1            2.090634e+08         52        42    1 -0.560928 -2.597045   \n",
       "2            2.090634e+08         52        42    1 -0.560928 -2.597045   \n",
       "3            2.090634e+08         52        42    1 -0.560928 -2.597045   \n",
       "4            2.090634e+08         52        42    1 -0.560928 -2.597045   \n",
       "...                   ...        ...       ...  ...       ...       ...   \n",
       "256300072    1.165392e+03        159        13    0 -0.706759 -0.163885   \n",
       "256300073    1.149125e+05        159        14    0 -0.706759  0.250835   \n",
       "256300074    5.882079e+03        159        19    0 -0.706759 -1.079805   \n",
       "256300075    8.121207e+04        159        12    1 -0.706759  2.719383   \n",
       "256300076    2.370113e+05        159        15    0 -0.706759  2.222318   \n",
       "\n",
       "            density       coi       cog       rca  \n",
       "0          0.009508 -0.986485  0.328780  0.092705  \n",
       "1          0.016871 -0.986485 -0.000000  9.458043  \n",
       "2          0.016871 -0.986485 -0.000000  9.458043  \n",
       "3          0.016871 -0.986485 -0.000000  9.458043  \n",
       "4          0.016871 -0.986485 -0.000000  9.458043  \n",
       "...             ...       ...       ...       ...  \n",
       "256300072  0.033542 -0.832140  0.244567  0.018798  \n",
       "256300073  0.023356 -0.832140  0.280534  0.292447  \n",
       "256300074  0.036466 -0.832140 -0.217961  0.946455  \n",
       "256300075  0.042198 -0.832140  0.000000  1.207172  \n",
       "256300076  0.031952 -0.832140  0.803068  0.008902  \n",
       "\n",
       "[256300077 rows x 26 columns]"
      ]
     },
     "execution_count": 3,
     "metadata": {},
     "output_type": "execute_result"
    },
    {
     "name": "stdout",
     "output_type": "stream",
     "text": [
      "time: 6min 34s (started: 2024-04-29 17:43:08 +03:00)\n"
     ]
    }
   ],
   "source": [
    "# Reading the data\n",
    "data =  pd.read_csv('../../Data/SimpleApproach/Exports/Exports16-2021.csv.gz', compression='gzip')\n",
    "data"
   ]
  },
  {
   "cell_type": "code",
   "execution_count": 4,
   "metadata": {},
   "outputs": [
    {
     "name": "stdout",
     "output_type": "stream",
     "text": [
      "time: 13.5 s (started: 2024-04-29 17:49:42 +03:00)\n"
     ]
    }
   ],
   "source": [
    "data = data.rename(columns={'primaryValue_x': 'primaryValue'})\n",
    "data.dropna(inplace=True)"
   ]
  },
  {
   "cell_type": "code",
   "execution_count": 5,
   "metadata": {},
   "outputs": [
    {
     "name": "stdout",
     "output_type": "stream",
     "text": [
      "time: 2.39 s (started: 2024-04-29 17:49:56 +03:00)\n"
     ]
    }
   ],
   "source": [
    "def MPE(Y_actual,Y_Predicted):\n",
    "    mape = np.mean((Y_actual - Y_Predicted)/Y_actual)*100\n",
    "    return mape\n",
    "\n",
    "def MAPE(Y_actual,Y_Predicted):\n",
    "    mpe = np.mean(np.abs((Y_actual - Y_Predicted)/Y_actual))*100\n",
    "    return mpe\n",
    "\n",
    "data['primaryValue'] = data['primaryValue']/1000000\n",
    "data['gdp_o'] = data['gdp_o']/1000000\n",
    "data['gdp_d'] = data['gdp_d']/1000000\n",
    "data['gdpcap_o'] = data['gdpcap_o']/1000000\n",
    "data['gdpcap_d'] = data['gdpcap_d']/1000000\n",
    "data['distw_harmonic'] = data['distw_harmonic']/1000"
   ]
  },
  {
   "cell_type": "markdown",
   "metadata": {},
   "source": [
    "## RF\n"
   ]
  },
  {
   "cell_type": "code",
   "execution_count": 6,
   "metadata": {
    "scrolled": true
   },
   "outputs": [
    {
     "name": "stderr",
     "output_type": "stream",
     "text": [
      "/Users/chouno/Etag/myenv/lib/python3.10/site-packages/sklearn/ensemble/_forest.py:583: UserWarning: Some inputs do not have OOB scores. This probably means too few trees were used to compute any reliable OOB estimates.\n",
      "  warn(\n"
     ]
    },
    {
     "name": "stdout",
     "output_type": "stream",
     "text": [
      "R2 on training data: 0.76\n",
      "R2 on validation data: 0.72\n",
      "OOB Score (R-squared): 0.71\n",
      "Mean Squared Error: 21.05\n",
      "Mean Absolute Error: 0.39\n",
      "Adjusted R^2 Score: 0.72\n",
      "MAPE:  298891.0108133603\n",
      "MPE:  -298875.0428820473\n",
      "time: 24min 4s (started: 2024-04-29 17:49:58 +03:00)\n"
     ]
    }
   ],
   "source": [
    "X = data[[ 'distw_harmonic', 'gdp_o', 'gdp_d', 'refMonth', 'cmdCode']]\n",
    "y = data['primaryValue']\n",
    "\n",
    "X_train, X_test, y_train, y_test = train_test_split(X, y, test_size=0.2, random_state=0)\n",
    "del X, y\n",
    "\n",
    "\n",
    "# RF\n",
    "reg = model = RandomForestRegressor(min_samples_split=10, n_estimators=25, n_jobs=-1, random_state=0, oob_score=True,criterion='poisson', max_depth=17, verbose=0, max_features = 0.7)\n",
    "reg = reg.fit(X_train, y_train)\n",
    "y_pred = reg.predict(X_test)\n",
    "\n",
    "\n",
    "r2_train = reg.score(X_train, y_train)\n",
    "r2_val = reg.score(X_test, y_test)\n",
    "print(\"R2 on training data:\", r2_train.round(2))\n",
    "print(\"R2 on validation data:\", r2_val.round(2))\n",
    "oob_score = reg.oob_score_\n",
    "print(\"OOB Score (R-squared):\", oob_score.round(2))\n",
    "\n",
    "mse = mean_squared_error(y_test, y_pred)\n",
    "mae = mean_absolute_error(y_test, y_pred)\n",
    "# r2 = r2_score(y_val, y_pred)\n",
    "adj_r2 = 1 - (1-r2_score(y_test, y_pred)) * (len(y_test)-1)/(len(y_test)-X_test.shape[1]-1)\n",
    "\n",
    "print(\"Mean Squared Error:\", mse.round(2))\n",
    "print(\"Mean Absolute Error:\", mae.round(2))\n",
    "# print(\"R^2 Score:\", r2.round(2))\n",
    "print(\"Adjusted R^2 Score:\", adj_r2.round(2))\n",
    "\n",
    "index = y_test!=0\n",
    "mape = MAPE(y_test[index], y_pred[index])\n",
    "mpe = MPE(y_test[index], y_pred[index])\n",
    "\n",
    "\n",
    "print('MAPE: ', mape)\n",
    "print('MPE: ', mpe)"
   ]
  },
  {
   "cell_type": "code",
   "execution_count": 7,
   "metadata": {},
   "outputs": [
    {
     "name": "stdout",
     "output_type": "stream",
     "text": [
      "Feature Importances:\n",
      " distw_harmonic    0.121\n",
      "gdp_o             0.121\n",
      "gdp_d             0.225\n",
      "refMonth          0.004\n",
      "cmdCode           0.528\n",
      "dtype: float64\n"
     ]
    },
    {
     "data": {
      "image/png": "[encoded data removed]",
      "text/plain": [
       "<Figure size 640x480 with 1 Axes>"
      ]
     },
     "metadata": {},
     "output_type": "display_data"
    },
    {
     "name": "stdout",
     "output_type": "stream",
     "text": [
      "time: 117 ms (started: 2024-04-29 18:14:02 +03:00)\n"
     ]
    }
   ],
   "source": [
    "# Printing the feature importances\n",
    "importances = pd.Series(model.feature_importances_.round(3), index=X_train.columns)\n",
    "print('Feature Importances:\\n', importances)\n",
    "#\n",
    "importances.sort_values().plot(kind='barh')\n",
    "plt.title('Feature importances')\n",
    "plt.show()"
   ]
  },
  {
   "cell_type": "code",
   "execution_count": 8,
   "metadata": {},
   "outputs": [
    {
     "name": "stderr",
     "output_type": "stream",
     "text": [
      "/Users/chouno/Etag/myenv/lib/python3.10/site-packages/sklearn/ensemble/_forest.py:583: UserWarning: Some inputs do not have OOB scores. This probably means too few trees were used to compute any reliable OOB estimates.\n",
      "  warn(\n"
     ]
    },
    {
     "name": "stdout",
     "output_type": "stream",
     "text": [
      "R2 on training data: 0.77\n",
      "R2 on validation data: 0.73\n",
      "OOB Score (R-squared): 0.71\n",
      "Mean Squared Error: 20.91\n",
      "Mean Absolute Error: 0.39\n",
      "Adjusted R^2 Score: 0.73\n",
      "MAPE:  282149.05984302785\n",
      "MPE:  -282133.21297113376\n",
      "time: 27min (started: 2024-04-29 18:14:03 +03:00)\n"
     ]
    }
   ],
   "source": [
    "X = data[['distw_harmonic', 'pop_o', 'pop_d', 'gdpcap_o','gdpcap_d', 'refMonth', 'cmdCode']]\n",
    "y = data['primaryValue']\n",
    "\n",
    "X_train, X_test, y_train, y_test = train_test_split(X, y, test_size=0.2, random_state=0)\n",
    "del X, y\n",
    "\n",
    "# RF\n",
    "reg = model = RandomForestRegressor(min_samples_split=10,oob_score=True, n_estimators=25, n_jobs=-1, random_state=0, criterion='poisson', max_depth=17, verbose=0, max_features = 0.7)\n",
    "reg = reg.fit(X_train, y_train)\n",
    "y_pred = reg.predict(X_test)\n",
    "\n",
    "\n",
    "r2_train = reg.score(X_train, y_train)\n",
    "r2_val = reg.score(X_test, y_test)\n",
    "print(\"R2 on training data:\", r2_train.round(2))\n",
    "print(\"R2 on validation data:\", r2_val.round(2))\n",
    "oob_score = reg.oob_score_\n",
    "print(\"OOB Score (R-squared):\", oob_score.round(2))\n",
    "\n",
    "mse = mean_squared_error(y_test, y_pred)\n",
    "mae = mean_absolute_error(y_test, y_pred)\n",
    "# r2 = r2_score(y_val, y_pred)\n",
    "adj_r2 = 1 - (1-r2_score(y_test, y_pred)) * (len(y_test)-1)/(len(y_test)-X_test.shape[1]-1)\n",
    "\n",
    "print(\"Mean Squared Error:\", mse.round(2))\n",
    "print(\"Mean Absolute Error:\", mae.round(2))\n",
    "# print(\"R^2 Score:\", r2.round(2))\n",
    "print(\"Adjusted R^2 Score:\", adj_r2.round(2))\n",
    "\n",
    "index = y_test!=0\n",
    "mape = MAPE(y_test[index], y_pred[index])\n",
    "mpe = MPE(y_test[index], y_pred[index])\n",
    "\n",
    "\n",
    "print('MAPE: ', mape)\n",
    "print('MPE: ', mpe)"
   ]
  },
  {
   "cell_type": "code",
   "execution_count": 9,
   "metadata": {},
   "outputs": [
    {
     "name": "stdout",
     "output_type": "stream",
     "text": [
      "Feature Importances:\n",
      " distw_harmonic    0.103\n",
      "pop_o             0.108\n",
      "pop_d             0.172\n",
      "gdpcap_o          0.042\n",
      "gdpcap_d          0.058\n",
      "refMonth          0.005\n",
      "cmdCode           0.511\n",
      "dtype: float64\n"
     ]
    },
    {
     "data": {
      "image/png": "[encoded data removed]",
      "text/plain": [
       "<Figure size 640x480 with 1 Axes>"
      ]
     },
     "metadata": {},
     "output_type": "display_data"
    },
    {
     "name": "stdout",
     "output_type": "stream",
     "text": [
      "time: 79.1 ms (started: 2024-04-29 18:41:03 +03:00)\n"
     ]
    }
   ],
   "source": [
    "# Printing the feature importances\n",
    "importances = pd.Series(model.feature_importances_.round(3), index=X_train.columns)\n",
    "print('Feature Importances:\\n', importances)\n",
    "#\n",
    "importances.sort_values().plot(kind='barh')\n",
    "plt.title('Feature importances')\n",
    "plt.show()"
   ]
  },
  {
   "cell_type": "code",
   "execution_count": 10,
   "metadata": {},
   "outputs": [
    {
     "name": "stderr",
     "output_type": "stream",
     "text": [
      "/Users/chouno/Etag/myenv/lib/python3.10/site-packages/sklearn/ensemble/_forest.py:583: UserWarning: Some inputs do not have OOB scores. This probably means too few trees were used to compute any reliable OOB estimates.\n",
      "  warn(\n"
     ]
    },
    {
     "name": "stdout",
     "output_type": "stream",
     "text": [
      "R2 on training data: 0.8\n",
      "R2 on validation data: 0.77\n",
      "OOB Score (R-squared): 0.75\n",
      "Mean Squared Error: 17.76\n",
      "Mean Absolute Error: 0.37\n",
      "Adjusted R^2 Score: 0.77\n",
      "MAPE:  251932.36047844702\n",
      "MPE:  -251916.85617748363\n",
      "Feature Importances:\n",
      " distw_harmonic    0.099\n",
      "pop_o             0.075\n",
      "pop_d             0.165\n",
      "gdpcap_o          0.040\n",
      "gdpcap_d          0.058\n",
      "refMonth          0.003\n",
      "cmdCode           0.394\n",
      "density           0.166\n",
      "dtype: float64\n"
     ]
    },
    {
     "data": {
      "image/png": "[encoded data removed]",
      "text/plain": [
       "<Figure size 640x480 with 1 Axes>"
      ]
     },
     "metadata": {},
     "output_type": "display_data"
    },
    {
     "name": "stdout",
     "output_type": "stream",
     "text": [
      "time: 32min 22s (started: 2024-04-29 18:41:03 +03:00)\n"
     ]
    }
   ],
   "source": [
    "X = data[['distw_harmonic', 'pop_o', 'pop_d', 'gdpcap_o','gdpcap_d', 'refMonth', 'cmdCode','density']]\n",
    "y = data['primaryValue']\n",
    "\n",
    "X_train, X_test, y_train, y_test = train_test_split(X, y, test_size=0.2, random_state=0)\n",
    "del X, y\n",
    "\n",
    "# RF\n",
    "reg = model = RandomForestRegressor(min_samples_split=10,oob_score=True, n_estimators=25, n_jobs=-1, random_state=0, criterion='poisson', max_depth=17, verbose=0, max_features = 0.7)\n",
    "reg = reg.fit(X_train, y_train)\n",
    "y_pred = reg.predict(X_test)\n",
    "\n",
    "\n",
    "r2_train = reg.score(X_train, y_train)\n",
    "r2_val = reg.score(X_test, y_test)\n",
    "print(\"R2 on training data:\", r2_train.round(2))\n",
    "print(\"R2 on validation data:\", r2_val.round(2))\n",
    "oob_score = reg.oob_score_\n",
    "print(\"OOB Score (R-squared):\", oob_score.round(2))\n",
    "\n",
    "mse = mean_squared_error(y_test, y_pred)\n",
    "mae = mean_absolute_error(y_test, y_pred)\n",
    "# r2 = r2_score(y_val, y_pred)\n",
    "adj_r2 = 1 - (1-r2_score(y_test, y_pred)) * (len(y_test)-1)/(len(y_test)-X_test.shape[1]-1)\n",
    "\n",
    "print(\"Mean Squared Error:\", mse.round(2))\n",
    "print(\"Mean Absolute Error:\", mae.round(2))\n",
    "# print(\"R^2 Score:\", r2.round(2))\n",
    "print(\"Adjusted R^2 Score:\", adj_r2.round(2))\n",
    "\n",
    "index = y_test!=0\n",
    "mape = MAPE(y_test[index], y_pred[index])\n",
    "mpe = MPE(y_test[index], y_pred[index])\n",
    "\n",
    "\n",
    "print('MAPE: ', mape)\n",
    "print('MPE: ', mpe)\n",
    "\n",
    "# Printing the feature importances\n",
    "importances = pd.Series(model.feature_importances_.round(3), index=X_train.columns)\n",
    "print('Feature Importances:\\n', importances)\n",
    "#\n",
    "importances.sort_values().plot(kind='barh')\n",
    "plt.title('Feature importances')\n",
    "plt.show()"
   ]
  },
  {
   "cell_type": "code",
   "execution_count": 11,
   "metadata": {},
   "outputs": [
    {
     "name": "stderr",
     "output_type": "stream",
     "text": [
      "/Users/chouno/Etag/myenv/lib/python3.10/site-packages/sklearn/ensemble/_forest.py:583: UserWarning: Some inputs do not have OOB scores. This probably means too few trees were used to compute any reliable OOB estimates.\n",
      "  warn(\n"
     ]
    },
    {
     "name": "stdout",
     "output_type": "stream",
     "text": [
      "R2 on training data: 0.81\n",
      "R2 on validation data: 0.78\n",
      "OOB Score (R-squared): 0.76\n",
      "Mean Squared Error: 17.2\n",
      "Mean Absolute Error: 0.36\n",
      "Adjusted R^2 Score: 0.78\n",
      "MAPE:  244429.5580929538\n",
      "MPE:  -244414.01519776118\n",
      "Feature Importances:\n",
      " distw_harmonic    0.097\n",
      "pop_o             0.069\n",
      "pop_d             0.162\n",
      "gdpcap_o          0.040\n",
      "gdpcap_d          0.059\n",
      "refMonth          0.003\n",
      "cmdCode           0.362\n",
      "density           0.144\n",
      "pci               0.063\n",
      "dtype: float64\n"
     ]
    },
    {
     "data": {
      "image/png": "[encoded data removed]",
      "text/plain": [
       "<Figure size 640x480 with 1 Axes>"
      ]
     },
     "metadata": {},
     "output_type": "display_data"
    },
    {
     "name": "stdout",
     "output_type": "stream",
     "text": [
      "time: 37min 18s (started: 2024-04-29 19:13:25 +03:00)\n"
     ]
    }
   ],
   "source": [
    "X = data[['distw_harmonic', 'pop_o', 'pop_d', 'gdpcap_o','gdpcap_d', 'refMonth', 'cmdCode','density', 'pci']]\n",
    "y = data['primaryValue']\n",
    "\n",
    "X_train, X_test, y_train, y_test = train_test_split(X, y, test_size=0.2, random_state=0)\n",
    "del X, y\n",
    "\n",
    "# RF\n",
    "reg = model = RandomForestRegressor(min_samples_split=10,oob_score=True, n_estimators=25, n_jobs=-1, random_state=0, criterion='poisson', max_depth=17, verbose=0, max_features = 0.7)\n",
    "reg = reg.fit(X_train, y_train)\n",
    "y_pred = reg.predict(X_test)\n",
    "\n",
    "\n",
    "\n",
    "r2_train = reg.score(X_train, y_train)\n",
    "r2_val = reg.score(X_test, y_test)\n",
    "print(\"R2 on training data:\", r2_train.round(2))\n",
    "print(\"R2 on validation data:\", r2_val.round(2))\n",
    "oob_score = reg.oob_score_\n",
    "print(\"OOB Score (R-squared):\", oob_score.round(2))\n",
    "\n",
    "mse = mean_squared_error(y_test, y_pred)\n",
    "mae = mean_absolute_error(y_test, y_pred)\n",
    "# r2 = r2_score(y_val, y_pred)\n",
    "adj_r2 = 1 - (1-r2_score(y_test, y_pred)) * (len(y_test)-1)/(len(y_test)-X_test.shape[1]-1)\n",
    "\n",
    "print(\"Mean Squared Error:\", mse.round(2))\n",
    "print(\"Mean Absolute Error:\", mae.round(2))\n",
    "# print(\"R^2 Score:\", r2.round(2))\n",
    "print(\"Adjusted R^2 Score:\", adj_r2.round(2))\n",
    "\n",
    "index = y_test!=0\n",
    "mape = MAPE(y_test[index], y_pred[index])\n",
    "mpe = MPE(y_test[index], y_pred[index])\n",
    "\n",
    "\n",
    "print('MAPE: ', mape)\n",
    "print('MPE: ', mpe)\n",
    "\n",
    "# Printing the feature importances\n",
    "importances = pd.Series(model.feature_importances_.round(3), index=X_train.columns)\n",
    "print('Feature Importances:\\n', importances)\n",
    "#\n",
    "importances.sort_values().plot(kind='barh')\n",
    "plt.title('Feature importances')\n",
    "plt.show()"
   ]
  }
 ],
 "metadata": {
  "kernelspec": {
   "display_name": "Python 3.10",
   "language": "python",
   "name": "python3.10"
  },
  "language_info": {
   "codemirror_mode": {
    "name": "ipython",
    "version": 3
   },
   "file_extension": ".py",
   "mimetype": "text/x-python",
   "name": "python",
   "nbconvert_exporter": "python",
   "pygments_lexer": "ipython3",
   "version": "3.10.14"
  }
 },
 "nbformat": 4,
 "nbformat_minor": 4
}
